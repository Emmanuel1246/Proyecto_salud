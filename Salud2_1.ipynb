{
  "nbformat": 4,
  "nbformat_minor": 0,
  "metadata": {
    "colab": {
      "provenance": []
    },
    "kernelspec": {
      "name": "python3",
      "display_name": "Python 3"
    },
    "language_info": {
      "name": "python"
    }
  },
  "cells": [
    {
      "cell_type": "markdown",
      "source": [
        "#REDES NEURONALES"
      ],
      "metadata": {
        "id": "o15a97mtHFf9"
      }
    },
    {
      "cell_type": "code",
      "source": [
        "fc_model=tf.keras.models.Sequential([\n",
        "    tf.keras.layers.Flatten(input_shape=X_train.shape[1:]),\n",
        "    tf.keras.layers.Dense(128, activation='relu'),\n",
        "    tf.keras.layers.Dense(64, activation='relu'),\n",
        "    tf.keras.layers.Dense(1, activation='sigmoid')\n",
        "])"
      ],
      "metadata": {
        "id": "_KNlovPYcOu7"
      },
      "execution_count": null,
      "outputs": []
    },
    {
      "cell_type": "code",
      "source": [
        "##### configura el optimizador y la función para optimizar ##############\n",
        "\n",
        "fc_model.compile(optimizer='adam', loss='binary_crossentropy', metrics=['AUC'])"
      ],
      "metadata": {
        "id": "8mClzbqac611"
      },
      "execution_count": null,
      "outputs": []
    },
    {
      "cell_type": "code",
      "source": [
        "opt = tf.keras.optimizers.Adam(learning_rate=0.001)"
      ],
      "metadata": {
        "id": "KRnsRHH2kVzo"
      },
      "execution_count": null,
      "outputs": []
    },
    {
      "cell_type": "code",
      "source": [
        "fc_model.compile(loss='binary_crossentropy', optimizer=opt, metrics=['accuracy'])"
      ],
      "metadata": {
        "id": "lFkDk19EkGY5"
      },
      "execution_count": null,
      "outputs": []
    },
    {
      "cell_type": "code",
      "source": [
        "history = fc_model.fit(X_train, y_train, epochs=10, batch_size=64, validation_data=(X_test, y_test))"
      ],
      "metadata": {
        "colab": {
          "base_uri": "https://localhost:8080/"
        },
        "id": "28E3a5OTkeky",
        "outputId": "f3748b5d-33f7-45a0-e7fd-63e9969f7ab4"
      },
      "execution_count": null,
      "outputs": [
        {
          "output_type": "stream",
          "name": "stdout",
          "text": [
            "Epoch 1/10\n",
            "62/62 [==============================] - 2s 21ms/step - loss: 0.6739 - accuracy: 0.6046 - val_loss: 0.6672 - val_accuracy: 0.6075\n",
            "Epoch 2/10\n",
            "62/62 [==============================] - 1s 15ms/step - loss: 0.6652 - accuracy: 0.6051 - val_loss: 0.6588 - val_accuracy: 0.6075\n",
            "Epoch 3/10\n",
            "62/62 [==============================] - 1s 16ms/step - loss: 0.6557 - accuracy: 0.6051 - val_loss: 0.6441 - val_accuracy: 0.6075\n",
            "Epoch 4/10\n",
            "62/62 [==============================] - 1s 16ms/step - loss: 0.6301 - accuracy: 0.6051 - val_loss: 0.6081 - val_accuracy: 0.6075\n",
            "Epoch 5/10\n",
            "62/62 [==============================] - 1s 12ms/step - loss: 0.5948 - accuracy: 0.6197 - val_loss: 0.5752 - val_accuracy: 0.6367\n",
            "Epoch 6/10\n",
            "62/62 [==============================] - 1s 11ms/step - loss: 0.5726 - accuracy: 0.6313 - val_loss: 0.5618 - val_accuracy: 0.6468\n",
            "Epoch 7/10\n",
            "62/62 [==============================] - 1s 10ms/step - loss: 0.5617 - accuracy: 0.6394 - val_loss: 0.5501 - val_accuracy: 0.6559\n",
            "Epoch 8/10\n",
            "62/62 [==============================] - 1s 10ms/step - loss: 0.5542 - accuracy: 0.6477 - val_loss: 0.5409 - val_accuracy: 0.6731\n",
            "Epoch 9/10\n",
            "62/62 [==============================] - 1s 10ms/step - loss: 0.5486 - accuracy: 0.6538 - val_loss: 0.5367 - val_accuracy: 0.6751\n",
            "Epoch 10/10\n",
            "62/62 [==============================] - 1s 10ms/step - loss: 0.5430 - accuracy: 0.6571 - val_loss: 0.5418 - val_accuracy: 0.6700\n"
          ]
        }
      ]
    },
    {
      "cell_type": "markdown",
      "source": [
        "Aumentando neuronas para tratar de mejorar el modelo"
      ],
      "metadata": {
        "id": "L0wnHVtwol-Y"
      }
    },
    {
      "cell_type": "code",
      "source": [
        "fc_model2=tf.keras.models.Sequential([\n",
        "    tf.keras.layers.Flatten(input_shape=X_train.shape[1:]),\n",
        "    tf.keras.layers.Dense(256, activation='relu'),\n",
        "    tf.keras.layers.Dense(128, activation='relu'),\n",
        "    tf.keras.layers.Dense(64, activation='relu'),\n",
        "    tf.keras.layers.Dense(1, activation='sigmoid')\n",
        "])"
      ],
      "metadata": {
        "id": "_Xsrjw7oocBo"
      },
      "execution_count": null,
      "outputs": []
    },
    {
      "cell_type": "code",
      "source": [
        "##### configura el optimizador y la función para optimizar ##############\n",
        "\n",
        "fc_model2.compile(optimizer='adam', loss='binary_crossentropy', metrics=['AUC'])"
      ],
      "metadata": {
        "id": "ZQrPV8shot5i"
      },
      "execution_count": null,
      "outputs": []
    },
    {
      "cell_type": "code",
      "source": [
        "#####Entrenar el modelo usando el optimizador y arquitectura definidas #########\n",
        "fc_model2.fit(X_train, y_train, batch_size=100, epochs=7, validation_data=(X_test, y_test))"
      ],
      "metadata": {
        "colab": {
          "base_uri": "https://localhost:8080/"
        },
        "id": "1Hz4Rfq1ovdT",
        "outputId": "4f497394-9325-4ae2-b665-b4f78110414d"
      },
      "execution_count": null,
      "outputs": [
        {
          "output_type": "stream",
          "name": "stdout",
          "text": [
            "Epoch 1/7\n",
            "40/40 [==============================] - 2s 28ms/step - loss: 0.6750 - auc: 0.5105 - val_loss: 0.6723 - val_auc: 0.6506\n",
            "Epoch 2/7\n",
            "40/40 [==============================] - 1s 20ms/step - loss: 0.6678 - auc: 0.5650 - val_loss: 0.6605 - val_auc: 0.7178\n",
            "Epoch 3/7\n",
            "40/40 [==============================] - 1s 22ms/step - loss: 0.6568 - auc: 0.6126 - val_loss: 0.6411 - val_auc: 0.7154\n",
            "Epoch 4/7\n",
            "40/40 [==============================] - 1s 25ms/step - loss: 0.6221 - auc: 0.6688 - val_loss: 0.5978 - val_auc: 0.7234\n",
            "Epoch 5/7\n",
            "40/40 [==============================] - 1s 31ms/step - loss: 0.5756 - auc: 0.6991 - val_loss: 0.5598 - val_auc: 0.7264\n",
            "Epoch 6/7\n",
            "40/40 [==============================] - 1s 33ms/step - loss: 0.5565 - auc: 0.7042 - val_loss: 0.5477 - val_auc: 0.7294\n",
            "Epoch 7/7\n",
            "40/40 [==============================] - 1s 31ms/step - loss: 0.5493 - auc: 0.7244 - val_loss: 0.5359 - val_auc: 0.7603\n"
          ]
        },
        {
          "output_type": "execute_result",
          "data": {
            "text/plain": [
              "<keras.callbacks.History at 0x7f76c52a70a0>"
            ]
          },
          "metadata": {},
          "execution_count": 25
        }
      ]
    },
    {
      "cell_type": "code",
      "source": [
        "###### matriz de confusión test\n",
        "pred_test=(fc_model2.predict(X_test) > 0.50).astype('int')\n",
        "\n",
        "cm=metrics.confusion_matrix(y_test,pred_test, labels=[1,0])\n",
        "disp=metrics.ConfusionMatrixDisplay(cm,display_labels=['0', '1'])\n",
        "disp.plot()\n",
        "\n",
        "print(metrics.classification_report(y_test, pred_test))"
      ],
      "metadata": {
        "colab": {
          "base_uri": "https://localhost:8080/",
          "height": 623
        },
        "id": "Qo3_N7HANnN7",
        "outputId": "b7e85cf0-c2b3-4379-88f2-cb1e36ce8ef7"
      },
      "execution_count": null,
      "outputs": [
        {
          "output_type": "stream",
          "name": "stdout",
          "text": [
            "31/31 [==============================] - 0s 4ms/step\n",
            "              precision    recall  f1-score   support\n",
            "\n",
            "         0.0       0.86      0.57      0.69       602\n",
            "         1.0       0.56      0.85      0.68       389\n",
            "\n",
            "    accuracy                           0.68       991\n",
            "   macro avg       0.71      0.71      0.68       991\n",
            "weighted avg       0.74      0.68      0.68       991\n",
            "\n"
          ]
        },
        {
          "output_type": "display_data",
          "data": {
            "text/plain": [
              "<Figure size 640x480 with 2 Axes>"
            ],
            "image/png": "[encoded data removed]"
          },
          "metadata": {}
        }
      ]
    },
    {
      "cell_type": "markdown",
      "source": [
        "Aumentando aun mas las neuronas\n"
      ],
      "metadata": {
        "id": "m45qM4l9xmA1"
      }
    },
    {
      "cell_type": "code",
      "source": [
        "fc_model3=tf.keras.models.Sequential([\n",
        "    tf.keras.layers.Flatten(input_shape=X_train.shape[1:]),\n",
        "    tf.keras.layers.Dense(512, activation='relu'),\n",
        "    tf.keras.layers.Dense(256, activation='relu'),\n",
        "    tf.keras.layers.Dense(128, activation='relu'),\n",
        "    tf.keras.layers.Dense(64, activation='relu'),\n",
        "    tf.keras.layers.Dense(1, activation='sigmoid')\n",
        "])"
      ],
      "metadata": {
        "id": "k3vxMU7bxtqK"
      },
      "execution_count": null,
      "outputs": []
    },
    {
      "cell_type": "code",
      "source": [
        "##### configura el optimizador y la función para optimizar ##############\n",
        "\n",
        "fc_model3.compile(optimizer='adam', loss='binary_crossentropy', metrics=['AUC'])"
      ],
      "metadata": {
        "id": "GRZ3bSn7yDc_"
      },
      "execution_count": null,
      "outputs": []
    },
    {
      "cell_type": "code",
      "source": [
        "#####Entrenar el modelo usando el optimizador y arquitectura definidas #########\n",
        "fc_model3.fit(X_train, y_train, batch_size=200, epochs=10, validation_data=(X_test, y_test))"
      ],
      "metadata": {
        "colab": {
          "base_uri": "https://localhost:8080/"
        },
        "id": "N7_DzG_OyG6O",
        "outputId": "f18402a3-9f86-422f-ecb6-4bdb926f84a3"
      },
      "execution_count": null,
      "outputs": [
        {
          "output_type": "stream",
          "name": "stdout",
          "text": [
            "Epoch 1/10\n",
            "20/20 [==============================] - 3s 68ms/step - loss: 0.6766 - auc: 0.5077 - val_loss: 0.6689 - val_auc: 0.5905\n",
            "Epoch 2/10\n",
            "20/20 [==============================] - 1s 53ms/step - loss: 0.6699 - auc: 0.5322 - val_loss: 0.6650 - val_auc: 0.6717\n",
            "Epoch 3/10\n",
            "20/20 [==============================] - 1s 70ms/step - loss: 0.6632 - auc: 0.6135 - val_loss: 0.6526 - val_auc: 0.7232\n",
            "Epoch 4/10\n",
            "20/20 [==============================] - 2s 106ms/step - loss: 0.6373 - auc: 0.6734 - val_loss: 0.5939 - val_auc: 0.7173\n",
            "Epoch 5/10\n",
            "20/20 [==============================] - 4s 195ms/step - loss: 0.5786 - auc: 0.6932 - val_loss: 0.5659 - val_auc: 0.7187\n",
            "Epoch 6/10\n",
            "20/20 [==============================] - 2s 114ms/step - loss: 0.5528 - auc: 0.7103 - val_loss: 0.5548 - val_auc: 0.7315\n",
            "Epoch 7/10\n",
            "20/20 [==============================] - 2s 111ms/step - loss: 0.5445 - auc: 0.7147 - val_loss: 0.5320 - val_auc: 0.7370\n",
            "Epoch 8/10\n",
            "20/20 [==============================] - 2s 105ms/step - loss: 0.5539 - auc: 0.7043 - val_loss: 0.5857 - val_auc: 0.7230\n",
            "Epoch 9/10\n",
            "20/20 [==============================] - 1s 52ms/step - loss: 0.5623 - auc: 0.7026 - val_loss: 0.5387 - val_auc: 0.7506\n",
            "Epoch 10/10\n",
            "20/20 [==============================] - 1s 55ms/step - loss: 0.5392 - auc: 0.7189 - val_loss: 0.5257 - val_auc: 0.7483\n"
          ]
        },
        {
          "output_type": "execute_result",
          "data": {
            "text/plain": [
              "<keras.callbacks.History at 0x7f76c6b694b0>"
            ]
          },
          "metadata": {},
          "execution_count": 39
        }
      ]
    },
    {
      "cell_type": "code",
      "source": [
        "###### matriz de confusión test\n",
        "pred_test=(fc_model3.predict(X_test) > 0.40).astype('int')\n",
        "\n",
        "cm=metrics.confusion_matrix(y_test,pred_test, labels=[1,0])\n",
        "disp=metrics.ConfusionMatrixDisplay(cm,display_labels=['0', '1'])\n",
        "disp.plot()\n",
        "\n",
        "print(metrics.classification_report(y_test, pred_test))"
      ],
      "metadata": {
        "colab": {
          "base_uri": "https://localhost:8080/",
          "height": 624
        },
        "id": "GtN2sHX-ODy_",
        "outputId": "1205bd16-bab3-41d4-921b-e100ce440855"
      },
      "execution_count": null,
      "outputs": [
        {
          "output_type": "stream",
          "name": "stdout",
          "text": [
            "31/31 [==============================] - 1s 13ms/step\n",
            "              precision    recall  f1-score   support\n",
            "\n",
            "         0.0       0.90      0.53      0.67       602\n",
            "         1.0       0.56      0.91      0.69       389\n",
            "\n",
            "    accuracy                           0.68       991\n",
            "   macro avg       0.73      0.72      0.68       991\n",
            "weighted avg       0.77      0.68      0.68       991\n",
            "\n"
          ]
        },
        {
          "output_type": "display_data",
          "data": {
            "text/plain": [
              "<Figure size 640x480 with 2 Axes>"
            ],
            "image/png": "[encoded data removed]"
          },
          "metadata": {}
        }
      ]
    },
    {
      "cell_type": "markdown",
      "source": [
        "##Red convolucional"
      ],
      "metadata": {
        "id": "K0fbRaLUqG6b"
      }
    },
    {
      "cell_type": "code",
      "source": [
        "model = tf.keras.Sequential([\n",
        "    tf.keras.layers.Conv2D(16, kernel_size=(3, 3), activation='relu', input_shape=X_train.shape[1:]),\n",
        "    tf.keras.layers.MaxPooling2D(pool_size=(2, 2)),\n",
        "    tf.keras.layers.Conv2D(32, kernel_size=(3, 3), activation='relu'),\n",
        "    tf.keras.layers.MaxPooling2D(pool_size=(2, 2)),\n",
        "    tf.keras.layers.Flatten(),\n",
        "    tf.keras.layers.Dense(64, activation='relu'),\n",
        "    tf.keras.layers.Dense(1, activation='sigmoid')\n",
        "])\n",
        "\n",
        "# Compile the model with binary cross-entropy loss and Adam optimizer\n",
        "model.compile(loss='binary_crossentropy', optimizer='adam', metrics=['AUC'])\n",
        "\n",
        "# Train the model for 10 epochs\n",
        "model.fit(X_train, y_train, batch_size=100, epochs=10, validation_data=(X_test, y_test))"
      ],
      "metadata": {
        "colab": {
          "base_uri": "https://localhost:8080/"
        },
        "id": "yOAYAjuhqGbU",
        "outputId": "a583cede-9752-47c8-ec25-2b6db26ae5db"
      },
      "execution_count": null,
      "outputs": [
        {
          "output_type": "stream",
          "name": "stdout",
          "text": [
            "Epoch 1/10\n",
            "40/40 [==============================] - 6s 123ms/step - loss: 0.6773 - auc: 0.4988 - val_loss: 0.6733 - val_auc: 0.4998\n",
            "Epoch 2/10\n",
            "40/40 [==============================] - 3s 83ms/step - loss: 0.6723 - auc: 0.4914 - val_loss: 0.6702 - val_auc: 0.5000\n",
            "Epoch 3/10\n",
            "40/40 [==============================] - 3s 72ms/step - loss: 0.6720 - auc: 0.4857 - val_loss: 0.6698 - val_auc: 0.5056\n",
            "Epoch 4/10\n",
            "40/40 [==============================] - 3s 72ms/step - loss: 0.6712 - auc: 0.4879 - val_loss: 0.6698 - val_auc: 0.5000\n",
            "Epoch 5/10\n",
            "40/40 [==============================] - 4s 95ms/step - loss: 0.6710 - auc: 0.5064 - val_loss: 0.6701 - val_auc: 0.6082\n",
            "Epoch 6/10\n",
            "40/40 [==============================] - 4s 107ms/step - loss: 0.6710 - auc: 0.5046 - val_loss: 0.6695 - val_auc: 0.5042\n",
            "Epoch 7/10\n",
            "40/40 [==============================] - 3s 74ms/step - loss: 0.6711 - auc: 0.5018 - val_loss: 0.6694 - val_auc: 0.6089\n",
            "Epoch 8/10\n",
            "40/40 [==============================] - 3s 72ms/step - loss: 0.6715 - auc: 0.4981 - val_loss: 0.6691 - val_auc: 0.6908\n",
            "Epoch 9/10\n",
            "40/40 [==============================] - 3s 72ms/step - loss: 0.6719 - auc: 0.4988 - val_loss: 0.6689 - val_auc: 0.6935\n",
            "Epoch 10/10\n",
            "40/40 [==============================] - 5s 127ms/step - loss: 0.6711 - auc: 0.5012 - val_loss: 0.6697 - val_auc: 0.5835\n"
          ]
        },
        {
          "output_type": "execute_result",
          "data": {
            "text/plain": [
              "<keras.callbacks.History at 0x7f76c8d6ad70>"
            ]
          },
          "metadata": {},
          "execution_count": 29
        }
      ]
    },
    {
      "cell_type": "code",
      "source": [
        "model = tf.keras.Sequential([\n",
        "    tf.keras.layers.Conv2D(16, kernel_size=(3, 3), activation='relu', input_shape=X_train.shape[1:]),\n",
        "    tf.keras.layers.MaxPooling2D(pool_size=(2, 2)),\n",
        "    tf.keras.layers.Conv2D(32, kernel_size=(3, 3), activation='relu'),\n",
        "    tf.keras.layers.MaxPooling2D(pool_size=(2, 2)),\n",
        "    tf.keras.layers.Conv2D(64, kernel_size=(3, 3), activation='relu'),\n",
        "    tf.keras.layers.MaxPooling2D(pool_size=(2, 2)),\n",
        "    tf.keras.layers.Flatten(),\n",
        "    tf.keras.layers.Dense(128, activation='relu'),\n",
        "    tf.keras.layers.Dense(1, activation='sigmoid')\n",
        "])\n",
        "\n",
        "# Compile the model with binary cross-entropy loss and Adam optimizer\n",
        "model.compile(loss='binary_crossentropy', optimizer='adam', metrics=['AUC'])\n",
        "\n",
        "# Train the model for 10 epochs\n",
        "model.fit(X_train, y_train, batch_size=100, epochs=10, validation_data=(X_test, y_test))"
      ],
      "metadata": {
        "colab": {
          "base_uri": "https://localhost:8080/"
        },
        "id": "x6aIICYG017O",
        "outputId": "7ece77a6-4c3e-404c-c2ee-b45f2169f39a"
      },
      "execution_count": null,
      "outputs": [
        {
          "output_type": "stream",
          "name": "stdout",
          "text": [
            "Epoch 1/10\n",
            "40/40 [==============================] - 5s 85ms/step - loss: 0.6773 - auc: 0.5016 - val_loss: 0.6744 - val_auc: 0.5000\n",
            "Epoch 2/10\n",
            "40/40 [==============================] - 5s 114ms/step - loss: 0.6738 - auc: 0.4941 - val_loss: 0.6724 - val_auc: 0.5000\n",
            "Epoch 3/10\n",
            "40/40 [==============================] - 9s 227ms/step - loss: 0.6720 - auc: 0.4891 - val_loss: 0.6699 - val_auc: 0.5000\n",
            "Epoch 4/10\n",
            "40/40 [==============================] - 8s 208ms/step - loss: 0.6710 - auc: 0.5026 - val_loss: 0.6711 - val_auc: 0.5503\n",
            "Epoch 5/10\n",
            "40/40 [==============================] - 8s 209ms/step - loss: 0.6715 - auc: 0.4916 - val_loss: 0.6698 - val_auc: 0.5000\n",
            "Epoch 6/10\n",
            "40/40 [==============================] - 7s 164ms/step - loss: 0.6712 - auc: 0.4955 - val_loss: 0.6699 - val_auc: 0.5000\n",
            "Epoch 7/10\n",
            "40/40 [==============================] - 8s 200ms/step - loss: 0.6711 - auc: 0.5019 - val_loss: 0.6697 - val_auc: 0.6086\n",
            "Epoch 8/10\n",
            "40/40 [==============================] - 3s 81ms/step - loss: 0.6711 - auc: 0.5032 - val_loss: 0.6709 - val_auc: 0.6065\n",
            "Epoch 9/10\n",
            "40/40 [==============================] - 3s 76ms/step - loss: 0.6711 - auc: 0.5105 - val_loss: 0.6697 - val_auc: 0.5000\n",
            "Epoch 10/10\n",
            "40/40 [==============================] - 5s 114ms/step - loss: 0.6707 - auc: 0.5204 - val_loss: 0.6690 - val_auc: 0.5726\n"
          ]
        },
        {
          "output_type": "execute_result",
          "data": {
            "text/plain": [
              "<keras.callbacks.History at 0x7f76c8d4d360>"
            ]
          },
          "metadata": {},
          "execution_count": 30
        }
      ]
    }
  ]
}